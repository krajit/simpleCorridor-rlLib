{
 "cells": [
  {
   "cell_type": "markdown",
   "id": "ff94bbc8-0632-49f6-ab78-7cc8523da0a5",
   "metadata": {
    "tags": []
   },
   "source": [
    "# Simple Corridor - Default\n",
    "\n",
    "\n",
    "This is a simple environment where agents start at the left end target is at the other end."
   ]
  },
  {
   "cell_type": "code",
   "execution_count": 1,
   "id": "434e2086-47d6-415f-84d8-030ab0d89ac9",
   "metadata": {},
   "outputs": [
    {
     "name": "stdout",
     "output_type": "stream",
     "text": [
      "pygame 2.1.2 (SDL 2.0.16, Python 3.10.4)\n",
      "Hello from the pygame community. https://www.pygame.org/contribute.html\n"
     ]
    }
   ],
   "source": [
    "import gym\n",
    "import ray\n",
    "from ray.rllib.agents.ppo import PPOTrainer\n",
    "from ray.rllib.agents.dqn import DQNTrainer\n",
    "\n",
    "import pygame\n",
    "import numpy as np\n",
    "\n",
    "import torch\n",
    "from IPython.display import clear_output\n",
    "from IPython import display\n",
    "import random\n",
    "import matplotlib.pylab as plt\n",
    "import copy\n",
    "import time"
   ]
  },
  {
   "cell_type": "code",
   "execution_count": 2,
   "id": "fb5573b1-d96d-446c-a52a-119703605d24",
   "metadata": {},
   "outputs": [],
   "source": [
    "class SimpleCorridor(gym.Env):\n",
    "    def __init__(self, config):\n",
    "        self.length = config[\"corridor_length\"]\n",
    "        self.mode = config[\"mode\"] # \"fixed\" or \"random\"\n",
    "        \n",
    "        if self.mode == \"fixed\":\n",
    "            self.start_pos = 0\n",
    "            self.end_pos = self.length-1\n",
    "        elif self.mode == \"random\":\n",
    "            self.start_pos, self.end_pos = random.sample(range(self.length),2)\n",
    "        self.action_space = gym.spaces.Discrete(2)\n",
    "        self.observation_space = gym.spaces.Box(0.0, self.length, shape=(2,),dtype='int32')\n",
    "\n",
    "    def reset(self):\n",
    "        self.cur_pos = self.start_pos\n",
    "        return np.array([self.cur_pos, self.end_pos])\n",
    "\n",
    "    def step(self, action):\n",
    "        if action == 0 and self.cur_pos > 0: # walk left\n",
    "            self.cur_pos -= 1\n",
    "        if action == 1 and self.cur_pos < self.length-1:\n",
    "            self.cur_pos += 1\n",
    "        done = self.cur_pos == self.end_pos\n",
    "        reward = 1.0 if done else -0.1\n",
    "        return np.array([self.cur_pos, self.end_pos]), reward, done, {} \n",
    "    def render(self, mode=\"rgb_array\"):\n",
    "        canvas = pygame.Surface((20, 20*self.length+1))\n",
    "        canvas.fill((255, 255, 255))\n",
    "        for i in range(self.length+2):\n",
    "            pygame.draw.line(canvas, 0, (0, 20*(i)), (20, 20*(i)), width=1)\n",
    "        pygame.draw.line(canvas, 0, (0,0), (0, 20*(i)), width=1)\n",
    "        pygame.draw.line(canvas, 0, (19,0), (19, 20*(i)), width=1)\n",
    "        pygame.draw.circle(canvas, (0, 0, 255), (10,self.cur_pos*20+10), 7)\n",
    "        pygame.draw.circle(canvas, (255, 0, 0), (10,(self.end_pos)*20+10), 7)\n",
    "        plArray = np.array(pygame.surfarray.pixels3d(canvas))\n",
    "        plt.imshow(plArray)        \n",
    "        plt.axis(\"off\")"
   ]
  },
  {
   "cell_type": "code",
   "execution_count": 3,
   "id": "4932efc8-a30a-428c-9d52-67a663bce9e7",
   "metadata": {},
   "outputs": [
    {
     "data": {
      "image/png": "[encoded data removed]",
      "text/plain": [
       "<Figure size 432x288 with 1 Axes>"
      ]
     },
     "metadata": {
      "needs_background": "light"
     },
     "output_type": "display_data"
    }
   ],
   "source": [
    "env = SimpleCorridor({\"corridor_length\": 10, \"mode\":\"random\"})\n",
    "env.reset()\n",
    "env.render()"
   ]
  },
  {
   "cell_type": "code",
   "execution_count": 4,
   "id": "f13337bb-777c-4c97-a40a-bc2a643d2827",
   "metadata": {},
   "outputs": [
    {
     "data": {
      "image/png": "[encoded data removed]",
      "text/plain": [
       "<Figure size 432x288 with 1 Axes>"
      ]
     },
     "metadata": {},
     "output_type": "display_data"
    },
    {
     "data": {
      "image/png": "[encoded data removed]",
      "text/plain": [
       "<Figure size 432x288 with 1 Axes>"
      ]
     },
     "metadata": {
      "needs_background": "light"
     },
     "output_type": "display_data"
    }
   ],
   "source": [
    "env.reset()\n",
    "done = False\n",
    "\n",
    "while not done:\n",
    "    plt.cla()\n",
    "    display.clear_output(wait=True)\n",
    "\n",
    "    obs, reward, done, _ = env.step(env.action_space.sample())\n",
    "    env.render()\n",
    "    time.sleep(0.01)\n",
    "    display.clear_output(wait=True)\n",
    "    display.display(plt.gcf())\n",
    "    plt.gcf()"
   ]
  },
  {
   "cell_type": "code",
   "execution_count": 56,
   "id": "6d8fae5e-4b53-4692-aa6a-7c7c2e23f912",
   "metadata": {},
   "outputs": [
    {
     "name": "stdout",
     "output_type": "stream",
     "text": [
      "\u001b[2m\u001b[36m(RolloutWorker pid=2800120)\u001b[0m pygame 2.1.2 (SDL 2.0.16, Python 3.10.4)\n",
      "\u001b[2m\u001b[36m(RolloutWorker pid=2800120)\u001b[0m Hello from the pygame community. https://www.pygame.org/contribute.html\n",
      "\u001b[2m\u001b[36m(RolloutWorker pid=2800121)\u001b[0m pygame 2.1.2 (SDL 2.0.16, Python 3.10.4)\n",
      "\u001b[2m\u001b[36m(RolloutWorker pid=2800121)\u001b[0m Hello from the pygame community. https://www.pygame.org/contribute.html\n",
      "\u001b[2m\u001b[36m(RolloutWorker pid=2800122)\u001b[0m pygame 2.1.2 (SDL 2.0.16, Python 3.10.4)\n",
      "\u001b[2m\u001b[36m(RolloutWorker pid=2800122)\u001b[0m Hello from the pygame community. https://www.pygame.org/contribute.html\n",
      "\u001b[2m\u001b[36m(RolloutWorker pid=2800123)\u001b[0m pygame 2.1.2 (SDL 2.0.16, Python 3.10.4)\n",
      "\u001b[2m\u001b[36m(RolloutWorker pid=2800123)\u001b[0m Hello from the pygame community. https://www.pygame.org/contribute.html\n"
     ]
    },
    {
     "name": "stderr",
     "output_type": "stream",
     "text": [
      "\u001b[2m\u001b[36m(RolloutWorker pid=2800120)\u001b[0m 2022-07-06 16:11:28,462\tWARNING env.py:135 -- Your env doesn't have a .spec.max_episode_steps attribute. This is fine if you have set 'horizon' in your config dictionary, or `soft_horizon`. However, if you haven't, 'horizon' will default to infinity, and your environment will not be reset.\n",
      "\u001b[2m\u001b[36m(RolloutWorker pid=2800120)\u001b[0m /home/ajit.kumar@SNU.IN/anaconda3/envs/udemy-rl/lib/python3.10/site-packages/torch/cuda/__init__.py:82: UserWarning: CUDA initialization: CUDA unknown error - this may be due to an incorrectly set up environment, e.g. changing env variable CUDA_VISIBLE_DEVICES after program start. Setting the available devices to be zero. (Triggered internally at  /opt/conda/conda-bld/pytorch_1646755897462/work/c10/cuda/CUDAFunctions.cpp:112.)\n",
      "\u001b[2m\u001b[36m(RolloutWorker pid=2800120)\u001b[0m   return torch._C._cuda_getDeviceCount() > 0\n",
      "\u001b[2m\u001b[36m(RolloutWorker pid=2800121)\u001b[0m 2022-07-06 16:11:28,462\tWARNING env.py:135 -- Your env doesn't have a .spec.max_episode_steps attribute. This is fine if you have set 'horizon' in your config dictionary, or `soft_horizon`. However, if you haven't, 'horizon' will default to infinity, and your environment will not be reset.\n",
      "\u001b[2m\u001b[36m(RolloutWorker pid=2800121)\u001b[0m /home/ajit.kumar@SNU.IN/anaconda3/envs/udemy-rl/lib/python3.10/site-packages/torch/cuda/__init__.py:82: UserWarning: CUDA initialization: CUDA unknown error - this may be due to an incorrectly set up environment, e.g. changing env variable CUDA_VISIBLE_DEVICES after program start. Setting the available devices to be zero. (Triggered internally at  /opt/conda/conda-bld/pytorch_1646755897462/work/c10/cuda/CUDAFunctions.cpp:112.)\n",
      "\u001b[2m\u001b[36m(RolloutWorker pid=2800121)\u001b[0m   return torch._C._cuda_getDeviceCount() > 0\n",
      "\u001b[2m\u001b[36m(RolloutWorker pid=2800122)\u001b[0m 2022-07-06 16:11:28,517\tWARNING env.py:135 -- Your env doesn't have a .spec.max_episode_steps attribute. This is fine if you have set 'horizon' in your config dictionary, or `soft_horizon`. However, if you haven't, 'horizon' will default to infinity, and your environment will not be reset.\n",
      "\u001b[2m\u001b[36m(RolloutWorker pid=2800122)\u001b[0m /home/ajit.kumar@SNU.IN/anaconda3/envs/udemy-rl/lib/python3.10/site-packages/torch/cuda/__init__.py:82: UserWarning: CUDA initialization: CUDA unknown error - this may be due to an incorrectly set up environment, e.g. changing env variable CUDA_VISIBLE_DEVICES after program start. Setting the available devices to be zero. (Triggered internally at  /opt/conda/conda-bld/pytorch_1646755897462/work/c10/cuda/CUDAFunctions.cpp:112.)\n",
      "\u001b[2m\u001b[36m(RolloutWorker pid=2800122)\u001b[0m   return torch._C._cuda_getDeviceCount() > 0\n",
      "\u001b[2m\u001b[36m(RolloutWorker pid=2800123)\u001b[0m 2022-07-06 16:11:28,557\tWARNING env.py:135 -- Your env doesn't have a .spec.max_episode_steps attribute. This is fine if you have set 'horizon' in your config dictionary, or `soft_horizon`. However, if you haven't, 'horizon' will default to infinity, and your environment will not be reset.\n",
      "\u001b[2m\u001b[36m(RolloutWorker pid=2800123)\u001b[0m /home/ajit.kumar@SNU.IN/anaconda3/envs/udemy-rl/lib/python3.10/site-packages/torch/cuda/__init__.py:82: UserWarning: CUDA initialization: CUDA unknown error - this may be due to an incorrectly set up environment, e.g. changing env variable CUDA_VISIBLE_DEVICES after program start. Setting the available devices to be zero. (Triggered internally at  /opt/conda/conda-bld/pytorch_1646755897462/work/c10/cuda/CUDAFunctions.cpp:112.)\n",
      "\u001b[2m\u001b[36m(RolloutWorker pid=2800123)\u001b[0m   return torch._C._cuda_getDeviceCount() > 0\n"
     ]
    }
   ],
   "source": [
    "trainer = PPOTrainer(\n",
    "    config={\n",
    "        \"env\": SimpleCorridor,\n",
    "        \"framework\": \"torch\",\n",
    "        \"env_config\": {\n",
    "            \"corridor_length\": 10,\n",
    "            \"mode\":\"random\"\n",
    "        },\n",
    "        \"num_workers\": 4,\n",
    "        \n",
    "            \"model\": {\n",
    "            \"fcnet_hiddens\": [64, 64],\n",
    "            \"fcnet_activation\": \"relu\",\n",
    "        },\n",
    "    }\n",
    ")"
   ]
  },
  {
   "cell_type": "code",
   "execution_count": 57,
   "id": "21addd5d-a56e-4755-aecf-4bc2301558f9",
   "metadata": {},
   "outputs": [
    {
     "name": "stdout",
     "output_type": "stream",
     "text": [
      "Iter: 0; avg. reward=-2.0627118644067783\n",
      "Iter: 1; avg. reward=-0.6004032258064513\n",
      "Iter: 2; avg. reward=0.2621621621621622\n",
      "Iter: 3; avg. reward=0.4908675799086758\n",
      "Iter: 4; avg. reward=0.5958333333333333\n",
      "Iter: 5; avg. reward=0.64248291571754\n",
      "Iter: 6; avg. reward=0.693387589013225\n",
      "Iter: 7; avg. reward=0.7113592233009709\n",
      "Iter: 8; avg. reward=0.7332417582417583\n",
      "Iter: 9; avg. reward=0.7428443649373881\n",
      "Iter: 10; avg. reward=0.7526452732003469\n",
      "Iter: 11; avg. reward=0.7532062391681109\n",
      "Iter: 12; avg. reward=0.7570815450643776\n",
      "Iter: 13; avg. reward=0.7025819265143992\n",
      "Iter: 14; avg. reward=0.7387184115523465\n",
      "Iter: 15; avg. reward=0.7586177474402731\n",
      "Iter: 16; avg. reward=0.7600340136054421\n",
      "Iter: 17; avg. reward=0.707843137254902\n",
      "Iter: 18; avg. reward=0.7378623188405797\n",
      "Iter: 19; avg. reward=0.7588235294117648\n"
     ]
    }
   ],
   "source": [
    "for i in range(20):\n",
    "    \n",
    "    results = trainer.train()\n",
    "    print(f\"Iter: {i}; avg. reward={results['episode_reward_mean']}\")\n"
   ]
  },
  {
   "cell_type": "code",
   "execution_count": 67,
   "id": "91461ee2-8111-491e-97d1-9c7469a6e973",
   "metadata": {},
   "outputs": [
    {
     "data": {
      "image/png": "[encoded data removed]",
      "text/plain": [
       "<Figure size 432x288 with 1 Axes>"
      ]
     },
     "metadata": {},
     "output_type": "display_data"
    },
    {
     "data": {
      "image/png": "[encoded data removed]",
      "text/plain": [
       "<Figure size 432x288 with 1 Axes>"
      ]
     },
     "metadata": {
      "needs_background": "light"
     },
     "output_type": "display_data"
    }
   ],
   "source": [
    "for _ in range(20):\n",
    "\n",
    "    env = SimpleCorridor({\"corridor_length\": 10, \"mode\":\"random\"})\n",
    "    # Get the initial observation (should be: [0.0] for the starting position).\n",
    "    obs = env.reset()\n",
    "    done = False\n",
    "    total_reward = 0.0\n",
    "    # Play one episode.\n",
    "    while not done:\n",
    "        plt.cla()\n",
    "        env.render()\n",
    "\n",
    "        action = trainer.compute_single_action(obs)\n",
    "        obs, reward, done, info = env.step(action)\n",
    "        total_reward += reward\n",
    "        time.sleep(0.1)\n",
    "        display.clear_output(wait=True)\n",
    "        display.display(plt.gcf())\n",
    "        plt.gcf()\n"
   ]
  },
  {
   "cell_type": "markdown",
   "id": "482c0a43-e141-4d8a-8e02-88ba1e2b3f86",
   "metadata": {},
   "source": [
    "# TODO: how to save and load the model"
   ]
  },
  {
   "cell_type": "markdown",
   "id": "07ac76c2-5742-4ac0-8d8f-14e2e4c32519",
   "metadata": {},
   "source": [
    "# TODO: How to use use tensorboard to view the training history"
   ]
  },
  {
   "cell_type": "code",
   "execution_count": 45,
   "id": "af1f2c35-fe49-4a49-9e72-78eb81b550f6",
   "metadata": {},
   "outputs": [
    {
     "name": "stdout",
     "output_type": "stream",
     "text": [
      "513\n"
     ]
    }
   ],
   "source": [
    "xx = 0\n",
    "\n",
    "for i in range(1000):\n",
    "    x,y = random.sample(range(10),2)\n",
    "    if x > y:\n",
    "        xx +=1 \n",
    "print(xx)"
   ]
  },
  {
   "cell_type": "code",
   "execution_count": null,
   "id": "0f56b6bd-82d4-4354-9fab-1afbc7318d98",
   "metadata": {},
   "outputs": [],
   "source": []
  }
 ],
 "metadata": {
  "kernelspec": {
   "display_name": "Python 3 (ipykernel)",
   "language": "python",
   "name": "python3"
  },
  "language_info": {
   "codemirror_mode": {
    "name": "ipython",
    "version": 3
   },
   "file_extension": ".py",
   "mimetype": "text/x-python",
   "name": "python",
   "nbconvert_exporter": "python",
   "pygments_lexer": "ipython3",
   "version": "3.10.4"
  }
 },
 "nbformat": 4,
 "nbformat_minor": 5
}
