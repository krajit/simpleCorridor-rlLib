{
 "cells": [
  {
   "cell_type": "markdown",
   "id": "ff94bbc8-0632-49f6-ab78-7cc8523da0a5",
   "metadata": {
    "tags": []
   },
   "source": [
    "# Simple Corridor - Default\n",
    "\n",
    "\n",
    "This is a simple environment where agents start at the left end target is at the other end."
   ]
  },
  {
   "cell_type": "code",
   "execution_count": 1,
   "id": "434e2086-47d6-415f-84d8-030ab0d89ac9",
   "metadata": {},
   "outputs": [
    {
     "name": "stdout",
     "output_type": "stream",
     "text": [
      "pygame 2.1.2 (SDL 2.0.16, Python 3.10.4)\n",
      "Hello from the pygame community. https://www.pygame.org/contribute.html\n"
     ]
    }
   ],
   "source": [
    "import gym\n",
    "import ray\n",
    "from ray.rllib.agents.ppo import PPOTrainer\n",
    "from ray.rllib.agents.dqn import DQNTrainer\n",
    "\n",
    "import pygame\n",
    "import numpy as np\n",
    "\n",
    "import torch\n",
    "from IPython.display import clear_output\n",
    "from IPython import display\n",
    "import random\n",
    "import matplotlib.pylab as plt\n",
    "import copy\n",
    "import time"
   ]
  },
  {
   "cell_type": "code",
   "execution_count": 2,
   "id": "fb5573b1-d96d-446c-a52a-119703605d24",
   "metadata": {},
   "outputs": [],
   "source": [
    "class SimpleCorridor(gym.Env):\n",
    "    def __init__(self, config):\n",
    "        self.length = config[\"corridor_length\"]\n",
    "        self.mode = config[\"mode\"] # \"fixed\" or \"random\"\n",
    "        \n",
    "        if self.mode == \"fixed\":\n",
    "            self.start_pos = 0\n",
    "            self.end_pos = self.length-1\n",
    "        elif self.mode == \"random\":\n",
    "            self.start_pos, self.end_pos = random.sample(range(self.length),2)\n",
    "        self.action_space = gym.spaces.Discrete(2)\n",
    "        self.observation_space = gym.spaces.Box(0.0, self.length, shape=(2,),dtype='int32')\n",
    "\n",
    "    def reset(self):\n",
    "        self.cur_pos = self.start_pos\n",
    "        return np.array([self.cur_pos, self.end_pos])\n",
    "\n",
    "    def step(self, action):\n",
    "        if action == 0 and self.cur_pos > 0: # walk left\n",
    "            self.cur_pos -= 1\n",
    "        if action == 1 and self.cur_pos < self.length-1:\n",
    "            self.cur_pos += 1\n",
    "        done = self.cur_pos == self.end_pos\n",
    "        reward = 1.0 if done else -0.1\n",
    "        return np.array([self.cur_pos, self.end_pos]), reward, done, {} \n",
    "    def render(self, mode=\"rgb_array\"):\n",
    "        canvas = pygame.Surface((20, 20*self.length+1))\n",
    "        canvas.fill((255, 255, 255))\n",
    "        for i in range(self.length+2):\n",
    "            pygame.draw.line(canvas, 0, (0, 20*(i)), (20, 20*(i)), width=1)\n",
    "        pygame.draw.line(canvas, 0, (0,0), (0, 20*(i)), width=1)\n",
    "        pygame.draw.line(canvas, 0, (19,0), (19, 20*(i)), width=1)\n",
    "        pygame.draw.circle(canvas, (0, 0, 255), (10,self.cur_pos*20+10), 7)\n",
    "        pygame.draw.circle(canvas, (255, 0, 0), (10,(self.end_pos)*20+10), 7)\n",
    "        plArray = np.array(pygame.surfarray.pixels3d(canvas))\n",
    "        plt.imshow(plArray)        \n",
    "        plt.axis(\"off\")"
   ]
  },
  {
   "cell_type": "code",
   "execution_count": 3,
   "id": "4932efc8-a30a-428c-9d52-67a663bce9e7",
   "metadata": {},
   "outputs": [
    {
     "data": {
      "image/png": "[encoded data removed]",
      "text/plain": [
       "<Figure size 432x288 with 1 Axes>"
      ]
     },
     "metadata": {
      "needs_background": "light"
     },
     "output_type": "display_data"
    }
   ],
   "source": [
    "env = SimpleCorridor({\"corridor_length\": 10, \"mode\":\"random\"})\n",
    "env.reset()\n",
    "env.render()"
   ]
  },
  {
   "cell_type": "code",
   "execution_count": 4,
   "id": "f13337bb-777c-4c97-a40a-bc2a643d2827",
   "metadata": {},
   "outputs": [
    {
     "data": {
      "image/png": "[encoded data removed]",
      "text/plain": [
       "<Figure size 432x288 with 1 Axes>"
      ]
     },
     "metadata": {},
     "output_type": "display_data"
    },
    {
     "data": {
      "image/png": "[encoded data removed]",
      "text/plain": [
       "<Figure size 432x288 with 1 Axes>"
      ]
     },
     "metadata": {
      "needs_background": "light"
     },
     "output_type": "display_data"
    }
   ],
   "source": [
    "env.reset()\n",
    "done = False\n",
    "\n",
    "while not done:\n",
    "    plt.cla()\n",
    "    display.clear_output(wait=True)\n",
    "\n",
    "    obs, reward, done, _ = env.step(env.action_space.sample())\n",
    "    env.render()\n",
    "    time.sleep(0.01)\n",
    "    display.clear_output(wait=True)\n",
    "    display.display(plt.gcf())\n",
    "    plt.gcf()"
   ]
  },
  {
   "cell_type": "code",
   "execution_count": null,
   "id": "6d8fae5e-4b53-4692-aa6a-7c7c2e23f912",
   "metadata": {},
   "outputs": [],
   "source": [
    "trainer = PPOTrainer(\n",
    "    config={\n",
    "        \"env\": SimpleCorridor,\n",
    "        \"framework\": \"torch\",\n",
    "        \"env_config\": {\n",
    "            \"corridor_length\": 10,\n",
    "            \"mode\":\"random\"\n",
    "        },\n",
    "        \"num_workers\": 4,\n",
    "        \n",
    "            \"model\": {\n",
    "            \"fcnet_hiddens\": [64, 64],\n",
    "            \"fcnet_activation\": \"relu\",\n",
    "        },\n",
    "    },\n",
    ")"
   ]
  },
  {
   "cell_type": "code",
   "execution_count": null,
   "id": "21addd5d-a56e-4755-aecf-4bc2301558f9",
   "metadata": {},
   "outputs": [],
   "source": [
    "for i in range(20):\n",
    "    \n",
    "    results = trainer.train()\n",
    "    print(f\"Iter: {i}; avg. reward={results['episode_reward_mean']}\")\n"
   ]
  },
  {
   "cell_type": "code",
   "execution_count": 7,
   "id": "91461ee2-8111-491e-97d1-9c7469a6e973",
   "metadata": {},
   "outputs": [
    {
     "data": {
      "image/png": "[encoded data removed]",
      "text/plain": [
       "<Figure size 432x288 with 1 Axes>"
      ]
     },
     "metadata": {},
     "output_type": "display_data"
    },
    {
     "data": {
      "image/png": "[encoded data removed]",
      "text/plain": [
       "<Figure size 432x288 with 1 Axes>"
      ]
     },
     "metadata": {
      "needs_background": "light"
     },
     "output_type": "display_data"
    }
   ],
   "source": [
    "for _ in range(20):\n",
    "\n",
    "    env = SimpleCorridor({\"corridor_length\": 10, \"mode\":\"random\"})\n",
    "    # Get the initial observation (should be: [0.0] for the starting position).\n",
    "    obs = env.reset()\n",
    "    done = False\n",
    "    total_reward = 0.0\n",
    "    # Play one episode.\n",
    "    while not done:\n",
    "        plt.cla()\n",
    "        env.render()\n",
    "\n",
    "        action = trainer.compute_single_action(obs)\n",
    "        obs, reward, done, info = env.step(action)\n",
    "        total_reward += reward\n",
    "        time.sleep(0.1)\n",
    "        display.clear_output(wait=True)\n",
    "        display.display(plt.gcf())\n",
    "        plt.gcf()\n"
   ]
  },
  {
   "cell_type": "markdown",
   "id": "482c0a43-e141-4d8a-8e02-88ba1e2b3f86",
   "metadata": {},
   "source": [
    "## How to save and load the model"
   ]
  },
  {
   "cell_type": "code",
   "execution_count": 8,
   "id": "5f104b15-d07b-41f0-bbc9-5073d80e37f5",
   "metadata": {},
   "outputs": [],
   "source": [
    "# save\n",
    "#trainer.save(\"dir\")"
   ]
  },
  {
   "cell_type": "code",
   "execution_count": 9,
   "id": "31c6f8fc-d089-46f1-92cb-456b389b606d",
   "metadata": {},
   "outputs": [],
   "source": [
    "# load\n",
    "trainer.load_checkpoint(\"checkpoint_000020/checkpoint-20\")"
   ]
  },
  {
   "cell_type": "markdown",
   "id": "07ac76c2-5742-4ac0-8d8f-14e2e4c32519",
   "metadata": {},
   "source": [
    "## How to use use tensorboard to view the training history"
   ]
  },
  {
   "cell_type": "code",
   "execution_count": null,
   "id": "af1f2c35-fe49-4a49-9e72-78eb81b550f6",
   "metadata": {},
   "outputs": [],
   "source": [
    "# Plugging in Ray Tune.\n",
    "# Note that this is the recommended way to run any experiments with RLlib.\n",
    "# Reasons:\n",
    "# - Tune allows you to do hyperparameter tuning in a user-friendly way\n",
    "#   and at large scale!\n",
    "# - Tune automatically allocates needed resources for the different\n",
    "#   hyperparam trials and experiment runs on a cluster.\n",
    "\n",
    "from ray import tune\n",
    "tune_config = {\n",
    "        \"env\": SimpleCorridor,\n",
    "        \"framework\": \"torch\",\n",
    "        \"env_config\": {\n",
    "            \"corridor_length\": 10,\n",
    "            \"mode\":\"random\"\n",
    "        },\n",
    "        \"num_workers\": 4,\n",
    "        \n",
    "            \"model\": {\n",
    "            \"fcnet_hiddens\": [64, 64],\n",
    "            \"fcnet_activation\": \"relu\",\n",
    "        },\n",
    "}\n",
    "\n",
    "stop = {\n",
    "    # Note that the keys used here can be anything present in the above `rllib_trainer.train()` output dict.\n",
    "    \"training_iteration\": 20,\n",
    "    \"episode_reward_mean\": 1.,\n",
    "}\n",
    "\n",
    "tune.run(\n",
    "    \"PPO\",\n",
    "    config=tune_config,\n",
    "    stop=stop,\n",
    "    local_dir=\"log_dir\",\n",
    "    checkpoint_at_end=True,  # ... create a checkpoint when done.\n",
    "    checkpoint_freq=10,  # ... create a checkpoint every 10 training iterations.\n",
    "    \n",
    ")"
   ]
  },
  {
   "cell_type": "code",
   "execution_count": null,
   "id": "aee2818b-5df2-4cef-8b2b-45a5f9fb9dfd",
   "metadata": {},
   "outputs": [],
   "source": [
    "trainer = PPOTrainer(config=tune_config) "
   ]
  },
  {
   "cell_type": "code",
   "execution_count": 11,
   "id": "45e7b421-2498-4efe-9504-73cf208a998d",
   "metadata": {},
   "outputs": [
    {
     "name": "stderr",
     "output_type": "stream",
     "text": [
      "2022-07-07 11:26:28,937\tINFO trainable.py:588 -- Restored on 10.13.62.8 from checkpoint: log_dir/PPO/PPO_SimpleCorridor_641b4_00000_0_2022-07-07_11-18-13/checkpoint_000020/checkpoint-20\n",
      "2022-07-07 11:26:28,939\tINFO trainable.py:597 -- Current state after restoring: {'_iteration': 20, '_timesteps_total': None, '_time_total': 65.94189524650574, '_episodes_total': 22613}\n"
     ]
    }
   ],
   "source": [
    "trainer.restore(\"log_dir/PPO/PPO_SimpleCorridor_641b4_00000_0_2022-07-07_11-18-13/checkpoint_000020/checkpoint-20\")"
   ]
  },
  {
   "cell_type": "code",
   "execution_count": 12,
   "id": "36434aa8-437e-4ef8-826b-5e86386073d8",
   "metadata": {},
   "outputs": [
    {
     "data": {
      "image/png": "[encoded data removed]",
      "text/plain": [
       "<Figure size 432x288 with 1 Axes>"
      ]
     },
     "metadata": {},
     "output_type": "display_data"
    },
    {
     "data": {
      "image/png": "[encoded data removed]",
      "text/plain": [
       "<Figure size 432x288 with 1 Axes>"
      ]
     },
     "metadata": {
      "needs_background": "light"
     },
     "output_type": "display_data"
    }
   ],
   "source": [
    "for _ in range(20):\n",
    "\n",
    "    env = SimpleCorridor({\"corridor_length\": 10, \"mode\":\"random\"})\n",
    "    # Get the initial observation (should be: [0.0] for the starting position).\n",
    "    obs = env.reset()\n",
    "    done = False\n",
    "    total_reward = 0.0\n",
    "    # Play one episode.\n",
    "    while not done:\n",
    "        plt.cla()\n",
    "        env.render()\n",
    "\n",
    "        action = trainer.compute_single_action(obs)\n",
    "        obs, reward, done, info = env.step(action)\n",
    "        total_reward += reward\n",
    "        time.sleep(0.1)\n",
    "        display.clear_output(wait=True)\n",
    "        display.display(plt.gcf())\n",
    "        plt.gcf()"
   ]
  },
  {
   "cell_type": "code",
   "execution_count": null,
   "id": "f85aa22e-f976-45fa-97e1-c2e495e16f80",
   "metadata": {},
   "outputs": [],
   "source": []
  }
 ],
 "metadata": {
  "kernelspec": {
   "display_name": "Python 3 (ipykernel)",
   "language": "python",
   "name": "python3"
  },
  "language_info": {
   "codemirror_mode": {
    "name": "ipython",
    "version": 3
   },
   "file_extension": ".py",
   "mimetype": "text/x-python",
   "name": "python",
   "nbconvert_exporter": "python",
   "pygments_lexer": "ipython3",
   "version": "3.10.4"
  }
 },
 "nbformat": 4,
 "nbformat_minor": 5
}
